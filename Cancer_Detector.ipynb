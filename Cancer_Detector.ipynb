{
 "cells": [
  {
   "cell_type": "markdown",
   "metadata": {},
   "source": [
    "# Skin Cancer Detector with HAM10000"
   ]
  },
  {
   "cell_type": "code",
   "execution_count": 218,
   "metadata": {},
   "outputs": [],
   "source": [
    "import pandas as pd\n",
    "import numpy as np\n",
    "import matplotlib.pyplot as plt\n",
    "import os\n",
    "import tensorflow as tf\n",
    "from tensorflow.keras.models import Sequential\n",
    "from tensorflow.keras.layers import Dense, Flatten\n",
    "from tensorflow.keras.preprocessing.image import ImageDataGenerator\n",
    "from tensorflow.keras import optimizers as opt\n",
    "from sklearn import preprocessing\n",
    "from sklearn.model_selection import train_test_split\n",
    "import glob\n",
    "from PIL import Image\n",
    "from sklearn.metrics import accuracy_score, precision_score, recall_score\n",
    "from sklearn.metrics import confusion_matrix, ConfusionMatrixDisplay\n",
    "import seaborn as sbn\n",
    "from tensorflow.keras.models import load_model\n",
    "from tensorflow.keras.preprocessing.image import ImageDataGenerator\n",
    "\n",
    "\n",
    "\n",
    "IMG_WIDTH = 64\n",
    "IMG_HEIGHT = 64"
   ]
  },
  {
   "cell_type": "markdown",
   "metadata": {},
   "source": [
    "## Load the data and preprocessing\n",
    "The dataset contains 10015 images divided in two parts. The 'HAM10000_metadata.csv' contains the ground truth of the dataset. Here we can use this file to retrieve the images from the relative folders and also analyse what the images are."
   ]
  },
  {
   "cell_type": "code",
   "execution_count": 3,
   "metadata": {},
   "outputs": [
    {
     "name": "stdout",
     "output_type": "stream",
     "text": [
      "['bkl' 'nv' 'df' 'mel' 'vasc' 'bcc' 'akiec']\n"
     ]
    }
   ],
   "source": [
    "path = '.'\n",
    "file_name = os.path.join(path, 'HAM10000_metadata.csv')\n",
    "df = pd.read_csv(file_name, na_values=['NA','?'])\n",
    "disease_types = pd.unique(df['dx'])\n",
    "print(disease_types)"
   ]
  },
  {
   "cell_type": "markdown",
   "metadata": {},
   "source": [
    "As you can see from the last print, there are 7 types of images classified in the dataset. Let's create a dictionary to better represent those diseases and then replace those with the full name of the skin patology."
   ]
  },
  {
   "cell_type": "code",
   "execution_count": 4,
   "metadata": {
    "scrolled": true
   },
   "outputs": [
    {
     "data": {
      "text/html": [
       "<div>\n",
       "<style scoped>\n",
       "    .dataframe tbody tr th:only-of-type {\n",
       "        vertical-align: middle;\n",
       "    }\n",
       "\n",
       "    .dataframe tbody tr th {\n",
       "        vertical-align: top;\n",
       "    }\n",
       "\n",
       "    .dataframe thead th {\n",
       "        text-align: right;\n",
       "    }\n",
       "</style>\n",
       "<table border=\"1\" class=\"dataframe\">\n",
       "  <thead>\n",
       "    <tr style=\"text-align: right;\">\n",
       "      <th></th>\n",
       "      <th>lesion_id</th>\n",
       "      <th>image_id</th>\n",
       "      <th>dx</th>\n",
       "      <th>dx_type</th>\n",
       "      <th>age</th>\n",
       "      <th>sex</th>\n",
       "      <th>localization</th>\n",
       "    </tr>\n",
       "  </thead>\n",
       "  <tbody>\n",
       "    <tr>\n",
       "      <th>0</th>\n",
       "      <td>HAM_0000118</td>\n",
       "      <td>ISIC_0027419</td>\n",
       "      <td>Benign_Keratosis</td>\n",
       "      <td>histo</td>\n",
       "      <td>80.0</td>\n",
       "      <td>male</td>\n",
       "      <td>scalp</td>\n",
       "    </tr>\n",
       "    <tr>\n",
       "      <th>1</th>\n",
       "      <td>HAM_0000118</td>\n",
       "      <td>ISIC_0025030</td>\n",
       "      <td>Benign_Keratosis</td>\n",
       "      <td>histo</td>\n",
       "      <td>80.0</td>\n",
       "      <td>male</td>\n",
       "      <td>scalp</td>\n",
       "    </tr>\n",
       "    <tr>\n",
       "      <th>2</th>\n",
       "      <td>HAM_0002730</td>\n",
       "      <td>ISIC_0026769</td>\n",
       "      <td>Benign_Keratosis</td>\n",
       "      <td>histo</td>\n",
       "      <td>80.0</td>\n",
       "      <td>male</td>\n",
       "      <td>scalp</td>\n",
       "    </tr>\n",
       "    <tr>\n",
       "      <th>3</th>\n",
       "      <td>HAM_0002730</td>\n",
       "      <td>ISIC_0025661</td>\n",
       "      <td>Benign_Keratosis</td>\n",
       "      <td>histo</td>\n",
       "      <td>80.0</td>\n",
       "      <td>male</td>\n",
       "      <td>scalp</td>\n",
       "    </tr>\n",
       "    <tr>\n",
       "      <th>4</th>\n",
       "      <td>HAM_0001466</td>\n",
       "      <td>ISIC_0031633</td>\n",
       "      <td>Benign_Keratosis</td>\n",
       "      <td>histo</td>\n",
       "      <td>75.0</td>\n",
       "      <td>male</td>\n",
       "      <td>ear</td>\n",
       "    </tr>\n",
       "  </tbody>\n",
       "</table>\n",
       "</div>"
      ],
      "text/plain": [
       "     lesion_id      image_id                dx dx_type   age   sex  \\\n",
       "0  HAM_0000118  ISIC_0027419  Benign_Keratosis   histo  80.0  male   \n",
       "1  HAM_0000118  ISIC_0025030  Benign_Keratosis   histo  80.0  male   \n",
       "2  HAM_0002730  ISIC_0026769  Benign_Keratosis   histo  80.0  male   \n",
       "3  HAM_0002730  ISIC_0025661  Benign_Keratosis   histo  80.0  male   \n",
       "4  HAM_0001466  ISIC_0031633  Benign_Keratosis   histo  75.0  male   \n",
       "\n",
       "  localization  \n",
       "0        scalp  \n",
       "1        scalp  \n",
       "2        scalp  \n",
       "3        scalp  \n",
       "4          ear  "
      ]
     },
     "execution_count": 4,
     "metadata": {},
     "output_type": "execute_result"
    }
   ],
   "source": [
    "images_type = {'bkl': 'Benign_Keratosis', 'nv': 'Melanocytic_Nevi',\n",
    "                      'df': 'Dermatofibroma', 'mel': 'Melanoma',\n",
    "                      'vasc': 'Vascular_Lesions', 'bcc': 'Basal_Cell_Carcinoma',\n",
    "                      'akiec': \"Bowens_disease\"}\n",
    "images_type\n",
    "df.replace(images_type.keys(), images_type.values(), inplace=True)\n",
    "df[:5]"
   ]
  },
  {
   "cell_type": "code",
   "execution_count": 5,
   "metadata": {},
   "outputs": [
    {
     "data": {
      "text/plain": [
       "array([80., 75., 60., 70., 55., 85., 65., 40., 50., 45., 35.,  0., 30.,\n",
       "       nan,  5., 25., 20., 10., 15.])"
      ]
     },
     "execution_count": 5,
     "metadata": {},
     "output_type": "execute_result"
    }
   ],
   "source": [
    "# We can observe also that the ages range, varies between 0 and 80.\n",
    "# This information will be useful in the final analysis \n",
    "# because we could tell wheter if the age is an increasing \n",
    "# factor of skin cancer or not.\n",
    "age_range = pd.unique(df['age'])\n",
    "age_range"
   ]
  },
  {
   "cell_type": "code",
   "execution_count": 6,
   "metadata": {},
   "outputs": [
    {
     "data": {
      "text/plain": [
       "array(['scalp', 'ear', 'face', 'back', 'trunk', 'chest',\n",
       "       'upper extremity', 'abdomen', 'unknown', 'lower extremity',\n",
       "       'genital', 'neck', 'hand', 'foot', 'acral'], dtype=object)"
      ]
     },
     "execution_count": 6,
     "metadata": {},
     "output_type": "execute_result"
    }
   ],
   "source": [
    "# It is also possible to locate where different tumors where found in the \n",
    "# patients\n",
    "cancers_location = pd.unique(df['localization'])\n",
    "cancers_location"
   ]
  },
  {
   "cell_type": "markdown",
   "metadata": {},
   "source": [
    "The dataset has been developed during the last 20 years and most of the images have been classified manually using a process that in medicine is called 'Histopathology' (histo) which entails to microscopically analyse a small portion of the skin tissue and then classifying it accordigly. There are also images which has been classified by the use of a tool called Cofocal Microscopy (cofocal) which allowed medicians to correctly identify where there's a disease and where it's not. Finally the data contains also a series of images that have not been classified rigorously, denoted by 'follow_up' (data that needs follow-up examination) and 'consensus' data that has been classified by the consensus of a medician."
   ]
  },
  {
   "cell_type": "code",
   "execution_count": 7,
   "metadata": {},
   "outputs": [
    {
     "name": "stdout",
     "output_type": "stream",
     "text": [
      "['histo' 'consensus' 'confocal' 'follow_up']\n"
     ]
    },
    {
     "data": {
      "text/html": [
       "<div>\n",
       "<style scoped>\n",
       "    .dataframe tbody tr th:only-of-type {\n",
       "        vertical-align: middle;\n",
       "    }\n",
       "\n",
       "    .dataframe tbody tr th {\n",
       "        vertical-align: top;\n",
       "    }\n",
       "\n",
       "    .dataframe thead th {\n",
       "        text-align: right;\n",
       "    }\n",
       "</style>\n",
       "<table border=\"1\" class=\"dataframe\">\n",
       "  <thead>\n",
       "    <tr style=\"text-align: right;\">\n",
       "      <th></th>\n",
       "      <th>lesion_id</th>\n",
       "      <th>image_id</th>\n",
       "      <th>dx</th>\n",
       "      <th>dx_type</th>\n",
       "      <th>age</th>\n",
       "      <th>sex</th>\n",
       "      <th>localization</th>\n",
       "    </tr>\n",
       "  </thead>\n",
       "  <tbody>\n",
       "    <tr>\n",
       "      <th>0</th>\n",
       "      <td>HAM_0000118</td>\n",
       "      <td>ISIC_0027419</td>\n",
       "      <td>Benign_Keratosis</td>\n",
       "      <td>histo</td>\n",
       "      <td>80.0</td>\n",
       "      <td>male</td>\n",
       "      <td>scalp</td>\n",
       "    </tr>\n",
       "    <tr>\n",
       "      <th>1</th>\n",
       "      <td>HAM_0000118</td>\n",
       "      <td>ISIC_0025030</td>\n",
       "      <td>Benign_Keratosis</td>\n",
       "      <td>histo</td>\n",
       "      <td>80.0</td>\n",
       "      <td>male</td>\n",
       "      <td>scalp</td>\n",
       "    </tr>\n",
       "    <tr>\n",
       "      <th>2</th>\n",
       "      <td>HAM_0002730</td>\n",
       "      <td>ISIC_0026769</td>\n",
       "      <td>Benign_Keratosis</td>\n",
       "      <td>histo</td>\n",
       "      <td>80.0</td>\n",
       "      <td>male</td>\n",
       "      <td>scalp</td>\n",
       "    </tr>\n",
       "    <tr>\n",
       "      <th>3</th>\n",
       "      <td>HAM_0002730</td>\n",
       "      <td>ISIC_0025661</td>\n",
       "      <td>Benign_Keratosis</td>\n",
       "      <td>histo</td>\n",
       "      <td>80.0</td>\n",
       "      <td>male</td>\n",
       "      <td>scalp</td>\n",
       "    </tr>\n",
       "    <tr>\n",
       "      <th>4</th>\n",
       "      <td>HAM_0001466</td>\n",
       "      <td>ISIC_0031633</td>\n",
       "      <td>Benign_Keratosis</td>\n",
       "      <td>histo</td>\n",
       "      <td>75.0</td>\n",
       "      <td>male</td>\n",
       "      <td>ear</td>\n",
       "    </tr>\n",
       "  </tbody>\n",
       "</table>\n",
       "</div>"
      ],
      "text/plain": [
       "     lesion_id      image_id                dx dx_type   age   sex  \\\n",
       "0  HAM_0000118  ISIC_0027419  Benign_Keratosis   histo  80.0  male   \n",
       "1  HAM_0000118  ISIC_0025030  Benign_Keratosis   histo  80.0  male   \n",
       "2  HAM_0002730  ISIC_0026769  Benign_Keratosis   histo  80.0  male   \n",
       "3  HAM_0002730  ISIC_0025661  Benign_Keratosis   histo  80.0  male   \n",
       "4  HAM_0001466  ISIC_0031633  Benign_Keratosis   histo  75.0  male   \n",
       "\n",
       "  localization  \n",
       "0        scalp  \n",
       "1        scalp  \n",
       "2        scalp  \n",
       "3        scalp  \n",
       "4          ear  "
      ]
     },
     "execution_count": 7,
     "metadata": {},
     "output_type": "execute_result"
    }
   ],
   "source": [
    "classification_type = pd.unique(df['dx_type'])\n",
    "print(classification_type)\n",
    "\n",
    "df[:5]\n"
   ]
  },
  {
   "cell_type": "markdown",
   "metadata": {},
   "source": [
    "After having deleted the pieces of data that are not relevant for the analysis, we now check if there are any missing values."
   ]
  },
  {
   "cell_type": "code",
   "execution_count": 8,
   "metadata": {},
   "outputs": [
    {
     "data": {
      "text/plain": [
       "lesion_id       False\n",
       "image_id        False\n",
       "dx              False\n",
       "dx_type         False\n",
       "age              True\n",
       "sex             False\n",
       "localization    False\n",
       "dtype: bool"
      ]
     },
     "execution_count": 8,
     "metadata": {},
     "output_type": "execute_result"
    }
   ],
   "source": [
    "df.isnull().any()"
   ]
  },
  {
   "cell_type": "markdown",
   "metadata": {},
   "source": [
    "From the analysis, it appears that the column of the 'age' has some missing values. To solve this problem we decided to fill those missing values with the median value."
   ]
  },
  {
   "cell_type": "code",
   "execution_count": 9,
   "metadata": {},
   "outputs": [
    {
     "data": {
      "text/html": [
       "<div>\n",
       "<style scoped>\n",
       "    .dataframe tbody tr th:only-of-type {\n",
       "        vertical-align: middle;\n",
       "    }\n",
       "\n",
       "    .dataframe tbody tr th {\n",
       "        vertical-align: top;\n",
       "    }\n",
       "\n",
       "    .dataframe thead th {\n",
       "        text-align: right;\n",
       "    }\n",
       "</style>\n",
       "<table border=\"1\" class=\"dataframe\">\n",
       "  <thead>\n",
       "    <tr style=\"text-align: right;\">\n",
       "      <th></th>\n",
       "      <th>lesion_id</th>\n",
       "      <th>image_id</th>\n",
       "      <th>dx</th>\n",
       "      <th>dx_type</th>\n",
       "      <th>age</th>\n",
       "      <th>sex</th>\n",
       "      <th>localization</th>\n",
       "    </tr>\n",
       "  </thead>\n",
       "  <tbody>\n",
       "    <tr>\n",
       "      <th>0</th>\n",
       "      <td>HAM_0000118</td>\n",
       "      <td>ISIC_0027419</td>\n",
       "      <td>Benign_Keratosis</td>\n",
       "      <td>histo</td>\n",
       "      <td>80.0</td>\n",
       "      <td>male</td>\n",
       "      <td>scalp</td>\n",
       "    </tr>\n",
       "    <tr>\n",
       "      <th>1</th>\n",
       "      <td>HAM_0000118</td>\n",
       "      <td>ISIC_0025030</td>\n",
       "      <td>Benign_Keratosis</td>\n",
       "      <td>histo</td>\n",
       "      <td>80.0</td>\n",
       "      <td>male</td>\n",
       "      <td>scalp</td>\n",
       "    </tr>\n",
       "    <tr>\n",
       "      <th>2</th>\n",
       "      <td>HAM_0002730</td>\n",
       "      <td>ISIC_0026769</td>\n",
       "      <td>Benign_Keratosis</td>\n",
       "      <td>histo</td>\n",
       "      <td>80.0</td>\n",
       "      <td>male</td>\n",
       "      <td>scalp</td>\n",
       "    </tr>\n",
       "    <tr>\n",
       "      <th>3</th>\n",
       "      <td>HAM_0002730</td>\n",
       "      <td>ISIC_0025661</td>\n",
       "      <td>Benign_Keratosis</td>\n",
       "      <td>histo</td>\n",
       "      <td>80.0</td>\n",
       "      <td>male</td>\n",
       "      <td>scalp</td>\n",
       "    </tr>\n",
       "    <tr>\n",
       "      <th>4</th>\n",
       "      <td>HAM_0001466</td>\n",
       "      <td>ISIC_0031633</td>\n",
       "      <td>Benign_Keratosis</td>\n",
       "      <td>histo</td>\n",
       "      <td>75.0</td>\n",
       "      <td>male</td>\n",
       "      <td>ear</td>\n",
       "    </tr>\n",
       "    <tr>\n",
       "      <th>...</th>\n",
       "      <td>...</td>\n",
       "      <td>...</td>\n",
       "      <td>...</td>\n",
       "      <td>...</td>\n",
       "      <td>...</td>\n",
       "      <td>...</td>\n",
       "      <td>...</td>\n",
       "    </tr>\n",
       "    <tr>\n",
       "      <th>10010</th>\n",
       "      <td>HAM_0002867</td>\n",
       "      <td>ISIC_0033084</td>\n",
       "      <td>Bowens_disease</td>\n",
       "      <td>histo</td>\n",
       "      <td>40.0</td>\n",
       "      <td>male</td>\n",
       "      <td>abdomen</td>\n",
       "    </tr>\n",
       "    <tr>\n",
       "      <th>10011</th>\n",
       "      <td>HAM_0002867</td>\n",
       "      <td>ISIC_0033550</td>\n",
       "      <td>Bowens_disease</td>\n",
       "      <td>histo</td>\n",
       "      <td>40.0</td>\n",
       "      <td>male</td>\n",
       "      <td>abdomen</td>\n",
       "    </tr>\n",
       "    <tr>\n",
       "      <th>10012</th>\n",
       "      <td>HAM_0002867</td>\n",
       "      <td>ISIC_0033536</td>\n",
       "      <td>Bowens_disease</td>\n",
       "      <td>histo</td>\n",
       "      <td>40.0</td>\n",
       "      <td>male</td>\n",
       "      <td>abdomen</td>\n",
       "    </tr>\n",
       "    <tr>\n",
       "      <th>10013</th>\n",
       "      <td>HAM_0000239</td>\n",
       "      <td>ISIC_0032854</td>\n",
       "      <td>Bowens_disease</td>\n",
       "      <td>histo</td>\n",
       "      <td>80.0</td>\n",
       "      <td>male</td>\n",
       "      <td>face</td>\n",
       "    </tr>\n",
       "    <tr>\n",
       "      <th>10014</th>\n",
       "      <td>HAM_0003521</td>\n",
       "      <td>ISIC_0032258</td>\n",
       "      <td>Melanoma</td>\n",
       "      <td>histo</td>\n",
       "      <td>70.0</td>\n",
       "      <td>female</td>\n",
       "      <td>back</td>\n",
       "    </tr>\n",
       "  </tbody>\n",
       "</table>\n",
       "<p>10015 rows × 7 columns</p>\n",
       "</div>"
      ],
      "text/plain": [
       "         lesion_id      image_id                dx dx_type   age     sex  \\\n",
       "0      HAM_0000118  ISIC_0027419  Benign_Keratosis   histo  80.0    male   \n",
       "1      HAM_0000118  ISIC_0025030  Benign_Keratosis   histo  80.0    male   \n",
       "2      HAM_0002730  ISIC_0026769  Benign_Keratosis   histo  80.0    male   \n",
       "3      HAM_0002730  ISIC_0025661  Benign_Keratosis   histo  80.0    male   \n",
       "4      HAM_0001466  ISIC_0031633  Benign_Keratosis   histo  75.0    male   \n",
       "...            ...           ...               ...     ...   ...     ...   \n",
       "10010  HAM_0002867  ISIC_0033084    Bowens_disease   histo  40.0    male   \n",
       "10011  HAM_0002867  ISIC_0033550    Bowens_disease   histo  40.0    male   \n",
       "10012  HAM_0002867  ISIC_0033536    Bowens_disease   histo  40.0    male   \n",
       "10013  HAM_0000239  ISIC_0032854    Bowens_disease   histo  80.0    male   \n",
       "10014  HAM_0003521  ISIC_0032258          Melanoma   histo  70.0  female   \n",
       "\n",
       "      localization  \n",
       "0            scalp  \n",
       "1            scalp  \n",
       "2            scalp  \n",
       "3            scalp  \n",
       "4              ear  \n",
       "...            ...  \n",
       "10010      abdomen  \n",
       "10011      abdomen  \n",
       "10012      abdomen  \n",
       "10013         face  \n",
       "10014         back  \n",
       "\n",
       "[10015 rows x 7 columns]"
      ]
     },
     "execution_count": 9,
     "metadata": {},
     "output_type": "execute_result"
    }
   ],
   "source": [
    "median = df['age'].median()\n",
    "df['age'] = df['age'].fillna(median)\n",
    "df.isnull().any()\n",
    "df"
   ]
  },
  {
   "cell_type": "markdown",
   "metadata": {},
   "source": [
    "After this brief pre-processing, we can see that there are 10015 images, each with a dimension of 600x450. We are going to reshape those images in a much scaled size 64x64 improve the performance in terms of speed of the model that we are going to build."
   ]
  },
  {
   "cell_type": "code",
   "execution_count": 69,
   "metadata": {},
   "outputs": [],
   "source": [
    "# Get the path of the original images directory\n",
    "original_images_path = '/Users/tommasocapecchi/Datasets/HAM10000/Images/'\n",
    "# Retrieve all the images path in the specified directory and store them into a list\n",
    "images = [img for img in glob.glob(original_images_path+'*.jpg')]\n",
    "# Create a new directory for the processed images\n",
    "if not 'Processed_images' in os.listdir('/Users/tommasocapecchi/Datasets/HAM10000/'):\n",
    "    os.mkdir('/Users/tommasocapecchi/Datasets/HAM10000/Processed_images')\n",
    "\n",
    "# Iterate through all the images and names associated to open and resize those images. To open an image we are\n",
    "# going to use the PIL library. Finally, save the new image in the previously created directory.\n",
    "for img, name in zip(images, df['image_id']):\n",
    "    data = Image.open(img)\n",
    "    data = data.resize((IMG_WIDTH, IMG_HEIGHT), Image.ANTIALIAS)\n",
    "    data.save('/Users/tommasocapecchi/Datasets/HAM10000/Processed_images/'+name+'.jpg')"
   ]
  },
  {
   "cell_type": "markdown",
   "metadata": {},
   "source": [
    "Now we update the dataframe, inserting a new column named 'image_path' that will specify for each image, the current path in the disk."
   ]
  },
  {
   "cell_type": "code",
   "execution_count": 10,
   "metadata": {},
   "outputs": [
    {
     "data": {
      "text/html": [
       "<div>\n",
       "<style scoped>\n",
       "    .dataframe tbody tr th:only-of-type {\n",
       "        vertical-align: middle;\n",
       "    }\n",
       "\n",
       "    .dataframe tbody tr th {\n",
       "        vertical-align: top;\n",
       "    }\n",
       "\n",
       "    .dataframe thead th {\n",
       "        text-align: right;\n",
       "    }\n",
       "</style>\n",
       "<table border=\"1\" class=\"dataframe\">\n",
       "  <thead>\n",
       "    <tr style=\"text-align: right;\">\n",
       "      <th></th>\n",
       "      <th>lesion_id</th>\n",
       "      <th>image_id</th>\n",
       "      <th>dx</th>\n",
       "      <th>dx_type</th>\n",
       "      <th>age</th>\n",
       "      <th>sex</th>\n",
       "      <th>localization</th>\n",
       "      <th>image_path</th>\n",
       "    </tr>\n",
       "  </thead>\n",
       "  <tbody>\n",
       "    <tr>\n",
       "      <th>0</th>\n",
       "      <td>HAM_0000118</td>\n",
       "      <td>ISIC_0027419</td>\n",
       "      <td>Benign_Keratosis</td>\n",
       "      <td>histo</td>\n",
       "      <td>80.0</td>\n",
       "      <td>male</td>\n",
       "      <td>scalp</td>\n",
       "      <td>/Users/tommasocapecchi/Datasets/HAM10000/Proce...</td>\n",
       "    </tr>\n",
       "    <tr>\n",
       "      <th>1</th>\n",
       "      <td>HAM_0000118</td>\n",
       "      <td>ISIC_0025030</td>\n",
       "      <td>Benign_Keratosis</td>\n",
       "      <td>histo</td>\n",
       "      <td>80.0</td>\n",
       "      <td>male</td>\n",
       "      <td>scalp</td>\n",
       "      <td>/Users/tommasocapecchi/Datasets/HAM10000/Proce...</td>\n",
       "    </tr>\n",
       "    <tr>\n",
       "      <th>2</th>\n",
       "      <td>HAM_0002730</td>\n",
       "      <td>ISIC_0026769</td>\n",
       "      <td>Benign_Keratosis</td>\n",
       "      <td>histo</td>\n",
       "      <td>80.0</td>\n",
       "      <td>male</td>\n",
       "      <td>scalp</td>\n",
       "      <td>/Users/tommasocapecchi/Datasets/HAM10000/Proce...</td>\n",
       "    </tr>\n",
       "    <tr>\n",
       "      <th>3</th>\n",
       "      <td>HAM_0002730</td>\n",
       "      <td>ISIC_0025661</td>\n",
       "      <td>Benign_Keratosis</td>\n",
       "      <td>histo</td>\n",
       "      <td>80.0</td>\n",
       "      <td>male</td>\n",
       "      <td>scalp</td>\n",
       "      <td>/Users/tommasocapecchi/Datasets/HAM10000/Proce...</td>\n",
       "    </tr>\n",
       "    <tr>\n",
       "      <th>4</th>\n",
       "      <td>HAM_0001466</td>\n",
       "      <td>ISIC_0031633</td>\n",
       "      <td>Benign_Keratosis</td>\n",
       "      <td>histo</td>\n",
       "      <td>75.0</td>\n",
       "      <td>male</td>\n",
       "      <td>ear</td>\n",
       "      <td>/Users/tommasocapecchi/Datasets/HAM10000/Proce...</td>\n",
       "    </tr>\n",
       "  </tbody>\n",
       "</table>\n",
       "</div>"
      ],
      "text/plain": [
       "     lesion_id      image_id                dx dx_type   age   sex  \\\n",
       "0  HAM_0000118  ISIC_0027419  Benign_Keratosis   histo  80.0  male   \n",
       "1  HAM_0000118  ISIC_0025030  Benign_Keratosis   histo  80.0  male   \n",
       "2  HAM_0002730  ISIC_0026769  Benign_Keratosis   histo  80.0  male   \n",
       "3  HAM_0002730  ISIC_0025661  Benign_Keratosis   histo  80.0  male   \n",
       "4  HAM_0001466  ISIC_0031633  Benign_Keratosis   histo  75.0  male   \n",
       "\n",
       "  localization                                         image_path  \n",
       "0        scalp  /Users/tommasocapecchi/Datasets/HAM10000/Proce...  \n",
       "1        scalp  /Users/tommasocapecchi/Datasets/HAM10000/Proce...  \n",
       "2        scalp  /Users/tommasocapecchi/Datasets/HAM10000/Proce...  \n",
       "3        scalp  /Users/tommasocapecchi/Datasets/HAM10000/Proce...  \n",
       "4          ear  /Users/tommasocapecchi/Datasets/HAM10000/Proce...  "
      ]
     },
     "execution_count": 10,
     "metadata": {},
     "output_type": "execute_result"
    }
   ],
   "source": [
    "# Now it is useful to insert in the dataframe a column\n",
    "# where for each image, locate the local path.\n",
    "images_dir_path = '/Users/tommasocapecchi/Datasets/HAM10000/Processed_images/'\n",
    "images_path = []\n",
    "for image_name in df['image_id']:\n",
    "    image_path = os.path.join(images_dir_path, image_name +'.jpg')\n",
    "    images_path.append(image_path)\n",
    "\n",
    "df['image_path'] = images_path\n",
    "df[:5]"
   ]
  },
  {
   "cell_type": "markdown",
   "metadata": {},
   "source": [
    "And finally we add another column called 'target', that will indeed contain the classification label for each image. As already shown, there are a total of 7 classes of skin cancer (values from 0 to 6)"
   ]
  },
  {
   "cell_type": "code",
   "execution_count": 29,
   "metadata": {},
   "outputs": [
    {
     "data": {
      "text/html": [
       "<div>\n",
       "<style scoped>\n",
       "    .dataframe tbody tr th:only-of-type {\n",
       "        vertical-align: middle;\n",
       "    }\n",
       "\n",
       "    .dataframe tbody tr th {\n",
       "        vertical-align: top;\n",
       "    }\n",
       "\n",
       "    .dataframe thead th {\n",
       "        text-align: right;\n",
       "    }\n",
       "</style>\n",
       "<table border=\"1\" class=\"dataframe\">\n",
       "  <thead>\n",
       "    <tr style=\"text-align: right;\">\n",
       "      <th></th>\n",
       "      <th>lesion_id</th>\n",
       "      <th>image_id</th>\n",
       "      <th>dx</th>\n",
       "      <th>dx_type</th>\n",
       "      <th>age</th>\n",
       "      <th>sex</th>\n",
       "      <th>localization</th>\n",
       "      <th>image_path</th>\n",
       "      <th>target</th>\n",
       "    </tr>\n",
       "  </thead>\n",
       "  <tbody>\n",
       "    <tr>\n",
       "      <th>0</th>\n",
       "      <td>HAM_0003453</td>\n",
       "      <td>ISIC_0031508</td>\n",
       "      <td>Melanocytic_Nevi</td>\n",
       "      <td>follow_up</td>\n",
       "      <td>55.0</td>\n",
       "      <td>female</td>\n",
       "      <td>abdomen</td>\n",
       "      <td>/Users/tommasocapecchi/Datasets/HAM10000/Proce...</td>\n",
       "      <td>4</td>\n",
       "    </tr>\n",
       "    <tr>\n",
       "      <th>1</th>\n",
       "      <td>HAM_0007177</td>\n",
       "      <td>ISIC_0025626</td>\n",
       "      <td>Melanocytic_Nevi</td>\n",
       "      <td>follow_up</td>\n",
       "      <td>30.0</td>\n",
       "      <td>male</td>\n",
       "      <td>trunk</td>\n",
       "      <td>/Users/tommasocapecchi/Datasets/HAM10000/Proce...</td>\n",
       "      <td>4</td>\n",
       "    </tr>\n",
       "    <tr>\n",
       "      <th>2</th>\n",
       "      <td>HAM_0002788</td>\n",
       "      <td>ISIC_0027563</td>\n",
       "      <td>Vascular_Lesions</td>\n",
       "      <td>consensus</td>\n",
       "      <td>70.0</td>\n",
       "      <td>male</td>\n",
       "      <td>lower extremity</td>\n",
       "      <td>/Users/tommasocapecchi/Datasets/HAM10000/Proce...</td>\n",
       "      <td>6</td>\n",
       "    </tr>\n",
       "    <tr>\n",
       "      <th>3</th>\n",
       "      <td>HAM_0004799</td>\n",
       "      <td>ISIC_0030807</td>\n",
       "      <td>Melanocytic_Nevi</td>\n",
       "      <td>follow_up</td>\n",
       "      <td>35.0</td>\n",
       "      <td>female</td>\n",
       "      <td>lower extremity</td>\n",
       "      <td>/Users/tommasocapecchi/Datasets/HAM10000/Proce...</td>\n",
       "      <td>4</td>\n",
       "    </tr>\n",
       "    <tr>\n",
       "      <th>4</th>\n",
       "      <td>HAM_0000891</td>\n",
       "      <td>ISIC_0027963</td>\n",
       "      <td>Melanocytic_Nevi</td>\n",
       "      <td>histo</td>\n",
       "      <td>30.0</td>\n",
       "      <td>female</td>\n",
       "      <td>lower extremity</td>\n",
       "      <td>/Users/tommasocapecchi/Datasets/HAM10000/Proce...</td>\n",
       "      <td>4</td>\n",
       "    </tr>\n",
       "  </tbody>\n",
       "</table>\n",
       "</div>"
      ],
      "text/plain": [
       "     lesion_id      image_id                dx    dx_type   age     sex  \\\n",
       "0  HAM_0003453  ISIC_0031508  Melanocytic_Nevi  follow_up  55.0  female   \n",
       "1  HAM_0007177  ISIC_0025626  Melanocytic_Nevi  follow_up  30.0    male   \n",
       "2  HAM_0002788  ISIC_0027563  Vascular_Lesions  consensus  70.0    male   \n",
       "3  HAM_0004799  ISIC_0030807  Melanocytic_Nevi  follow_up  35.0  female   \n",
       "4  HAM_0000891  ISIC_0027963  Melanocytic_Nevi      histo  30.0  female   \n",
       "\n",
       "      localization                                         image_path  target  \n",
       "0          abdomen  /Users/tommasocapecchi/Datasets/HAM10000/Proce...       4  \n",
       "1            trunk  /Users/tommasocapecchi/Datasets/HAM10000/Proce...       4  \n",
       "2  lower extremity  /Users/tommasocapecchi/Datasets/HAM10000/Proce...       6  \n",
       "3  lower extremity  /Users/tommasocapecchi/Datasets/HAM10000/Proce...       4  \n",
       "4  lower extremity  /Users/tommasocapecchi/Datasets/HAM10000/Proce...       4  "
      ]
     },
     "execution_count": 29,
     "metadata": {},
     "output_type": "execute_result"
    }
   ],
   "source": [
    "# Identify the class of the skin cancer and encode them in a range of integers between [0-6].\n",
    "encoder = preprocessing.LabelEncoder()\n",
    "labels = encoder.fit_transform(df['dx']).reshape((-1,1))\n",
    "df['target'] = labels\n",
    "indices = np.random.permutation(len(df))\n",
    "df = df.reindex(indices)\n",
    "df.reset_index(drop=True, inplace=True)\n",
    "df[:5]"
   ]
  },
  {
   "cell_type": "markdown",
   "metadata": {},
   "source": [
    "Now we would like to count the numbers of skin cancers according to each category to see if the dataset is well balanced or not."
   ]
  },
  {
   "cell_type": "markdown",
   "metadata": {},
   "source": [
    "Now we are going to load the images and adapt them to the best of our possibilities with respect to the size. The images in the dataset comes with two directories, part-1 and part-2. We are going to retrieve those images in two different variables and then unify in one big piece of data."
   ]
  },
  {
   "cell_type": "code",
   "execution_count": 12,
   "metadata": {},
   "outputs": [
    {
     "data": {
      "text/plain": [
       "Melanocytic_Nevi        6705\n",
       "Melanoma                1113\n",
       "Benign_Keratosis        1099\n",
       "Basal_Cell_Carcinoma     514\n",
       "Bowens_disease           327\n",
       "Vascular_Lesions         142\n",
       "Dermatofibroma           115\n",
       "Name: dx, dtype: int64"
      ]
     },
     "execution_count": 12,
     "metadata": {},
     "output_type": "execute_result"
    }
   ],
   "source": [
    "instances_cancer = df['dx'].value_counts()\n",
    "instances_cancer"
   ]
  },
  {
   "cell_type": "markdown",
   "metadata": {},
   "source": [
    "From the results it appears that the dataset is highly imbalanced, thus we might consider some technique of expansion for those categories that suffer of a lack of instances with respect to those that have a high number instead. For the moment we are not augmenting any data, since we want to compare the performances of the model before and after data augmentation."
   ]
  },
  {
   "cell_type": "code",
   "execution_count": 13,
   "metadata": {},
   "outputs": [
    {
     "data": {
      "image/png": "[encoded data removed]",
      "text/plain": [
       "<Figure size 720x576 with 1 Axes>"
      ]
     },
     "metadata": {
      "needs_background": "light"
     },
     "output_type": "display_data"
    }
   ],
   "source": [
    "instances_cancer.plot(kind='bar', figsize=(10,8))\n",
    "plt.grid(which='major', linestyle='-', linewidth='0.5', color='green')\n",
    "plt.grid(which='minor', linestyle=':', linewidth='0.5', color='black')\n",
    "plt.show()"
   ]
  },
  {
   "cell_type": "markdown",
   "metadata": {},
   "source": [
    "Now let's build the set of the images with the corresponding labels."
   ]
  },
  {
   "cell_type": "markdown",
   "metadata": {},
   "source": [
    "## Building the model: training and evaluation phase"
   ]
  },
  {
   "cell_type": "markdown",
   "metadata": {},
   "source": [
    "We are now going to build the actual Convolutional Neural Network to solve the problem of correctly classify the various type of skin cancer. To achieve this goal, first we are going to create a basic implementation to get initial results, then we are going to modify and apply different techniques to improve performances. "
   ]
  },
  {
   "cell_type": "markdown",
   "metadata": {},
   "source": [
    "Firstly, we are going to get the actual data from the images. Since each image is a 64x64 image represented in colors, each image will have a shape of (64,64,3) where the final dimension refers to the RGB channel. Each pixel will have a value between 0 and 255."
   ]
  },
  {
   "cell_type": "code",
   "execution_count": 37,
   "metadata": {},
   "outputs": [
    {
     "name": "stdout",
     "output_type": "stream",
     "text": [
      "(10015, 64, 64, 3)\n"
     ]
    }
   ],
   "source": [
    "X = []\n",
    "y = []\n",
    "# Iterate through the dataframe selecting the image path (to read the pixels value for each image)\n",
    "# and the target value and store those information.\n",
    "# into the \n",
    "for path_img, label in zip(df['image_path'].values, df['target'].values):\n",
    "    img = plt.imread(path_img, format='rgb')\n",
    "    X.append(img)\n",
    "    y.append(label)\n",
    "    \n",
    "# Reshape the two list as numpy arrays. The X will have the shape (n_images, W, H, RGB)\n",
    "X = np.array(X).reshape(-1, IMG_WIDTH, IMG_HEIGHT, 3)\n",
    "y = np.array(y).reshape(-1, 1)\n",
    "print(X.shape)\n",
    "\n",
    "#It is also a good practice to normalize the values of each pixel into a range between 0 and 1\n",
    "# to improve performances in the network.\n",
    "X = np.asarray([x/255 for x in X])\n",
    "X[:5]\n",
    "\n",
    "\n",
    "#Let's now shuffle the data and create the train, test sample\n",
    "indices = np.random.permutation(X.shape[0])\n",
    "df = df.reindex(indices)\n",
    "X = X[indices]\n",
    "y = y[indices]"
   ]
  },
  {
   "cell_type": "markdown",
   "metadata": {},
   "source": [
    "Now that the data is completely processed, we can split it into training and validation set using the sklearn library."
   ]
  },
  {
   "cell_type": "code",
   "execution_count": 125,
   "metadata": {},
   "outputs": [
    {
     "name": "stdout",
     "output_type": "stream",
     "text": [
      "(7511, 64, 64, 3)\n",
      "(2504, 64, 64, 3)\n",
      "(7511, 1)\n",
      "(2504, 1)\n"
     ]
    }
   ],
   "source": [
    "X_train, X_test, y_train,  y_test = train_test_split(X, y, test_size=0.25, random_state=42)\n",
    "# Check splitting shapes\n",
    "print(X_train.shape)\n",
    "print(X_test.shape)\n",
    "print(y_train.shape)\n",
    "print(y_test.shape)"
   ]
  },
  {
   "cell_type": "markdown",
   "metadata": {},
   "source": [
    "Before building the model, let's print some of the images to verify that we scaled and shuffled properly the whole collection of the data."
   ]
  },
  {
   "cell_type": "code",
   "execution_count": 126,
   "metadata": {},
   "outputs": [
    {
     "data": {
      "image/png": "[encoded data removed]",
      "text/plain": [
       "<Figure size 432x288 with 15 Axes>"
      ]
     },
     "metadata": {},
     "output_type": "display_data"
    }
   ],
   "source": [
    "fig, axes= plt.subplots(3,5)\n",
    "for i, axi in enumerate(axes.flat):\n",
    "    axi.imshow(X[i])\n",
    "    axi.set(xticks=[], yticks=[],\n",
    "            xlabel=y[i])\n",
    "    \n",
    "plt.show()\n",
    "plt.close()"
   ]
  },
  {
   "cell_type": "markdown",
   "metadata": {},
   "source": [
    "Let's now build a naïve CNN to get some initial results and then let's try to adapt the CNN with a model that provides a higher performance."
   ]
  },
  {
   "cell_type": "code",
   "execution_count": 142,
   "metadata": {},
   "outputs": [
    {
     "name": "stdout",
     "output_type": "stream",
     "text": [
      "Model: \"sequential_4\"\n",
      "_________________________________________________________________\n",
      "Layer (type)                 Output Shape              Param #   \n",
      "=================================================================\n",
      "conv2d_9 (Conv2D)            (None, 64, 64, 64)        832       \n",
      "_________________________________________________________________\n",
      "max_pooling2d_9 (MaxPooling2 (None, 63, 63, 64)        0         \n",
      "_________________________________________________________________\n",
      "flatten_9 (Flatten)          (None, 254016)            0         \n",
      "_________________________________________________________________\n",
      "dense_17 (Dense)             (None, 256)               65028352  \n",
      "_________________________________________________________________\n",
      "dense_18 (Dense)             (None, 7)                 1799      \n",
      "=================================================================\n",
      "Total params: 65,030,983\n",
      "Trainable params: 65,030,983\n",
      "Non-trainable params: 0\n",
      "_________________________________________________________________\n"
     ]
    }
   ],
   "source": [
    "model = tf.keras.Sequential([\n",
    "    \n",
    "    tf.keras.layers.Conv2D(64,\n",
    "                           kernel_size=(2, 2),\n",
    "                           strides= 1,\n",
    "                           padding='same',\n",
    "                           input_shape=(64, 64, 3),\n",
    "                           activation='relu'),\n",
    "    tf.keras.layers.MaxPooling2D(pool_size=(2, 2), strides=1),\n",
    "    tf.keras.layers.Flatten(),\n",
    "    tf.keras.layers.Dense(256, activation='relu'),\n",
    "    tf.keras.layers.Dense(7, activation='softmax')\n",
    "    ])\n",
    "\n",
    "custom = opt.Adam()\n",
    "\n",
    "model.compile(loss='sparse_categorical_crossentropy',\n",
    "              optimizer=custom,\n",
    "              metrics =['accuracy'])\n",
    "\n",
    "model.summary()"
   ]
  },
  {
   "cell_type": "code",
   "execution_count": 143,
   "metadata": {},
   "outputs": [
    {
     "name": "stdout",
     "output_type": "stream",
     "text": [
      "Epoch 1/10\n",
      "76/76 [==============================] - 73s 961ms/step - loss: 3.5788 - accuracy: 0.6071\n",
      "Epoch 2/10\n",
      "76/76 [==============================] - 69s 910ms/step - loss: 1.1490 - accuracy: 0.6689\n",
      "Epoch 3/10\n",
      "76/76 [==============================] - 69s 908ms/step - loss: 1.1414 - accuracy: 0.6689\n",
      "Epoch 4/10\n",
      "76/76 [==============================] - 70s 923ms/step - loss: 1.1092 - accuracy: 0.6697\n",
      "Epoch 5/10\n",
      "76/76 [==============================] - 69s 910ms/step - loss: 1.0848 - accuracy: 0.6711\n",
      "Epoch 6/10\n",
      "76/76 [==============================] - 69s 905ms/step - loss: 1.0500 - accuracy: 0.6750\n",
      "Epoch 7/10\n",
      "76/76 [==============================] - 70s 917ms/step - loss: 1.0245 - accuracy: 0.6782\n",
      "Epoch 8/10\n",
      "76/76 [==============================] - 69s 911ms/step - loss: 0.9970 - accuracy: 0.6837\n",
      "Epoch 9/10\n",
      "76/76 [==============================] - 70s 916ms/step - loss: 0.9811 - accuracy: 0.6859\n",
      "Epoch 10/10\n",
      "76/76 [==============================] - 68s 898ms/step - loss: 0.9333 - accuracy: 0.6987\n"
     ]
    }
   ],
   "source": [
    "history = model.fit(X_train, y_train, batch_size=100, verbose=1, epochs=10)"
   ]
  },
  {
   "cell_type": "markdown",
   "metadata": {},
   "source": [
    "It is quite convenient to save the model so that we can retrieve the information later without having to train again the model to find the values for the weights"
   ]
  },
  {
   "cell_type": "code",
   "execution_count": 145,
   "metadata": {},
   "outputs": [
    {
     "data": {
      "text/plain": [
       "0.6992811501597445"
      ]
     },
     "execution_count": 145,
     "metadata": {},
     "output_type": "execute_result"
    }
   ],
   "source": [
    "#path = '/Users/tommasocapecchi/Datasets/HAM10000/Saved_models/'\n",
    "#model.save(os.path.join(path, 'naive_CNN.h5'))\n",
    "# Get the predictions from the test set and compute the accuracy\n",
    "#model = load_model(os.path.join(path, \"naive_CNN.h5\"))\n",
    "y_pred = model.predict(X_test)\n",
    "y_pred = np.argmax(y_pred, axis=1)\n",
    "accuracy = accuracy_score(y_test, y_pred)\n",
    "accuracy"
   ]
  },
  {
   "cell_type": "markdown",
   "metadata": {},
   "source": [
    "Let's now visualize the score and the confusion matrix regarding the performance of the model."
   ]
  },
  {
   "cell_type": "code",
   "execution_count": 221,
   "metadata": {},
   "outputs": [
    {
     "data": {
      "text/plain": [
       "10015"
      ]
     },
     "execution_count": 221,
     "metadata": {},
     "output_type": "execute_result"
    }
   ],
   "source": []
  },
  {
   "cell_type": "code",
   "execution_count": 265,
   "metadata": {},
   "outputs": [],
   "source": [
    "def print_confusion_matrix(cm_list):\n",
    "    fig, axes = plt.subplots(1,2, figsize=(13,5), subplot_kw={'xticks':[], 'yticks':[]},\n",
    "                             gridspec_kw=dict(hspace=1, wspace=1))\n",
    "    \n",
    "    key = 0\n",
    "    for axi, cm in zip(axes, cm_list):\n",
    "        display = ConfusionMatrixDisplay(cm, display_labels=pd.unique(df.dx))\n",
    "        plt.title('Naive' if key == 0 else 'Naive Augmented')\n",
    "        key+=1\n",
    "        display.plot(ax=axi, xticks_rotation=90)\n",
    "        plt.xlabel('Predicted Values')\n",
    "        plt.ylabel('True Values')\n",
    "    \n",
    "def plot_accuracy_epochs(history):\n",
    "    plt.plot(history.history['loss'])\n",
    "    plt.title('Model loss/accuracy')\n",
    "    plt.ylabel('Loss')\n",
    "    plt.xlabel('Epoch')\n",
    "    plt.legend(['Loss'], loc='upper left')\n",
    "\n",
    "    plt2=plt.twinx()\n",
    "    color = 'red'\n",
    "    plt2.plot(history.history['accuracy'],color=color)\n",
    "    plt.ylabel('Accuracy')\n",
    "    plt2.legend(['Accuracy'], loc='upper center')"
   ]
  },
  {
   "cell_type": "code",
   "execution_count": 167,
   "metadata": {},
   "outputs": [
    {
     "data": {
      "image/png": "[encoded data removed]",
      "text/plain": [
       "<Figure size 432x288 with 2 Axes>"
      ]
     },
     "metadata": {
      "needs_background": "light"
     },
     "output_type": "display_data"
    },
    {
     "data": {
      "image/png": "[encoded data removed]",
      "text/plain": [
       "<Figure size 432x288 with 2 Axes>"
      ]
     },
     "metadata": {
      "needs_background": "light"
     },
     "output_type": "display_data"
    }
   ],
   "source": [
    "plot_accuracy_epochs(history)\n",
    "\n",
    "# Generate the confusion matrix and visualize the results\n",
    "cm = confusion_matrix(y_test, y_pred)\n",
    "print_confusion_matrix(cm)"
   ]
  },
  {
   "cell_type": "markdown",
   "metadata": {},
   "source": [
    "From the printed results it appear that the model had initially a high value with respect to the loss that rapidly decreased, in fact the value dropped significantly in the first epoch while in the later ones it seems to have a constant dicreasing behaviour. In contrast, the accuracy of the model has an increasing behaviour even in the last epoch and this suggests that we should have let the model train longer. Furthermore, by visualizing the confusion matrix it appears that the model is faulty is several scenarios. Particularly we can see how the 0th, 1st and 5h category are often mistakenly classified as category 4."
   ]
  },
  {
   "cell_type": "markdown",
   "metadata": {},
   "source": [
    "## Enhancements: how to improve the system's performance"
   ]
  },
  {
   "cell_type": "markdown",
   "metadata": {},
   "source": [
    "### Data Augmentation"
   ]
  },
  {
   "cell_type": "markdown",
   "metadata": {},
   "source": [
    "One way to improve the system could be to generate more artificial data from the images that are already contained in the dataset. We can simply achieve this goal by using the class ImageDataGenerator of the keras library."
   ]
  },
  {
   "cell_type": "code",
   "execution_count": 161,
   "metadata": {},
   "outputs": [],
   "source": [
    "data_generator = ImageDataGenerator(rotation_range=10,\n",
    "                                    width_shift_range=0.2,\n",
    "                                    height_shift_range=0.2,\n",
    "                                    zoom_range=0.2,\n",
    "                                    horizontal_flip=True,\n",
    "                                    vertical_flip=True,\n",
    "                                    fill_mode='nearest',\n",
    "                                   )\n",
    "data_generator.fit(X_train)"
   ]
  },
  {
   "cell_type": "code",
   "execution_count": null,
   "metadata": {},
   "outputs": [],
   "source": [
    "history_aug = model.fit(data_generator.flow(X_train, y_train), batch_size=100, epochs=10, verbose=1)"
   ]
  },
  {
   "cell_type": "code",
   "execution_count": 170,
   "metadata": {},
   "outputs": [
    {
     "data": {
      "image/png": "[encoded data removed]",
      "text/plain": [
       "<Figure size 432x288 with 2 Axes>"
      ]
     },
     "metadata": {
      "needs_background": "light"
     },
     "output_type": "display_data"
    }
   ],
   "source": [
    "y_pred = model.predict(X_test)\n",
    "y_pred = np.argmax(y_pred, axis=1)\n",
    "accuracy = accuracy_score(y_test, y_pred)\n",
    "\n",
    "plot_accuracy_epochs(history_aug)\n",
    "\n",
    "# UNCOMMENT TO SAVE THE MODEL\n",
    "\n",
    "# save_path = '/Users/tommasocapecchi/Datasets/HAM10000/Saved_models/'\n",
    "# model.save(os.path.join(save_path, 'naive_augmented_CNN.h5'))"
   ]
  },
  {
   "cell_type": "markdown",
   "metadata": {},
   "source": [
    "From the results, it appears that the model didn't improve its score althought the accuracy seems to increase at each epoch apart from the two dips at the 4th and 6th epoch. In this case, the model should be trained longer to see if there will be a huge step in terms of performances or if the model stops learning soon after it reaches the accuracy score of 67%.\n",
    "\n",
    "Below, we can also see how the two models are not different in terms of performances"
   ]
  },
  {
   "cell_type": "code",
   "execution_count": 223,
   "metadata": {},
   "outputs": [],
   "source": [
    "naive_model = load_model(os.path.join(save_path, 'naive_CNN.h5'))\n",
    "y_pred_naive = naive_model.predict(X_test)\n",
    "y_pred_naive = np.argmax(y_pred_naive, axis=1)\n",
    "cm_naive = confusion_matrix(y_test, y_pred_naive)\n",
    "\n",
    "naive_aug_model = load_model(os.path.join(save_path, 'naive_augmented_CNN.h5'))\n",
    "y_pred_naive_aug = naive_aug_model.predict(X_test)\n",
    "y_pred_naive_aug = np.argmax(y_pred_naive_aug, axis=1)\n",
    "cm_naive_aug = confusion_matrix(y_test, y_pred_naive_aug)"
   ]
  },
  {
   "cell_type": "code",
   "execution_count": 266,
   "metadata": {},
   "outputs": [
    {
     "data": {
      "image/png": "[encoded data removed]",
      "text/plain": [
       "<Figure size 936x360 with 4 Axes>"
      ]
     },
     "metadata": {
      "needs_background": "light"
     },
     "output_type": "display_data"
    }
   ],
   "source": [
    "conf_matrices = [cm_naive, cm_naive_aug]\n",
    "print_confusion_matrix(conf_matrices)"
   ]
  },
  {
   "cell_type": "markdown",
   "metadata": {},
   "source": [
    "## More enhancements: more layers, regularization, early stop."
   ]
  },
  {
   "cell_type": "code",
   "execution_count": null,
   "metadata": {},
   "outputs": [],
   "source": [
    "# implement regularization techniques\n",
    "# implement a monitor with stopping criterion\n",
    "# try to change the architecture so that it predicts around 90/95%"
   ]
  }
 ],
 "metadata": {
  "kernelspec": {
   "display_name": "Python 3",
   "language": "python",
   "name": "python3"
  },
  "language_info": {
   "codemirror_mode": {
    "name": "ipython",
    "version": 3
   },
   "file_extension": ".py",
   "mimetype": "text/x-python",
   "name": "python",
   "nbconvert_exporter": "python",
   "pygments_lexer": "ipython3",
   "version": "3.8.3"
  }
 },
 "nbformat": 4,
 "nbformat_minor": 4
}
