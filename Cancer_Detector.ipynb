{
 "cells": [
  {
   "cell_type": "markdown",
   "metadata": {},
   "source": [
    "# Skin Cancer Detector with HAM10000"
   ]
  },
  {
   "cell_type": "code",
   "execution_count": 1,
   "metadata": {},
   "outputs": [],
   "source": [
    "import pandas as pd\n",
    "import numpy as np\n",
    "import matplotlib.pyplot as plt\n",
    "import os\n",
    "import tensorflow as tf\n",
    "from sklearn import preprocessing"
   ]
  },
  {
   "cell_type": "markdown",
   "metadata": {},
   "source": [
    "### LOAD DATA\n",
    "The dataset contains 10015 images divided in two parts. The 'HAM10000_metadata.csv' contains the ground truth of the dataset. Here we can use this file to retrieve the images from the relative folders and also analyse what the images are."
   ]
  },
  {
   "cell_type": "code",
   "execution_count": 2,
   "metadata": {},
   "outputs": [
    {
     "name": "stdout",
     "output_type": "stream",
     "text": [
      "['bkl' 'nv' 'df' 'mel' 'vasc' 'bcc' 'akiec']\n"
     ]
    }
   ],
   "source": [
    "path = '.'\n",
    "file_name = os.path.join(path, 'HAM10000_metadata.csv')\n",
    "df = pd.read_csv(file_name, na_values=['NA','?'])\n",
    "disease_types = pd.unique(df['dx'])\n",
    "print(disease_types)"
   ]
  },
  {
   "cell_type": "markdown",
   "metadata": {},
   "source": [
    "As you can see from the last print, there are 7 types of images classified in the dataset. Let's create a dictionary to better represent those diseases and then replace those with the full name of the skin patology."
   ]
  },
  {
   "cell_type": "code",
   "execution_count": 3,
   "metadata": {
    "scrolled": true
   },
   "outputs": [
    {
     "data": {
      "text/html": [
       "<div>\n",
       "<style scoped>\n",
       "    .dataframe tbody tr th:only-of-type {\n",
       "        vertical-align: middle;\n",
       "    }\n",
       "\n",
       "    .dataframe tbody tr th {\n",
       "        vertical-align: top;\n",
       "    }\n",
       "\n",
       "    .dataframe thead th {\n",
       "        text-align: right;\n",
       "    }\n",
       "</style>\n",
       "<table border=\"1\" class=\"dataframe\">\n",
       "  <thead>\n",
       "    <tr style=\"text-align: right;\">\n",
       "      <th></th>\n",
       "      <th>lesion_id</th>\n",
       "      <th>image_id</th>\n",
       "      <th>dx</th>\n",
       "      <th>dx_type</th>\n",
       "      <th>age</th>\n",
       "      <th>sex</th>\n",
       "      <th>localization</th>\n",
       "    </tr>\n",
       "  </thead>\n",
       "  <tbody>\n",
       "    <tr>\n",
       "      <th>0</th>\n",
       "      <td>HAM_0000118</td>\n",
       "      <td>ISIC_0027419</td>\n",
       "      <td>Benign Keratosis</td>\n",
       "      <td>histo</td>\n",
       "      <td>80.0</td>\n",
       "      <td>male</td>\n",
       "      <td>scalp</td>\n",
       "    </tr>\n",
       "    <tr>\n",
       "      <th>1</th>\n",
       "      <td>HAM_0000118</td>\n",
       "      <td>ISIC_0025030</td>\n",
       "      <td>Benign Keratosis</td>\n",
       "      <td>histo</td>\n",
       "      <td>80.0</td>\n",
       "      <td>male</td>\n",
       "      <td>scalp</td>\n",
       "    </tr>\n",
       "    <tr>\n",
       "      <th>2</th>\n",
       "      <td>HAM_0002730</td>\n",
       "      <td>ISIC_0026769</td>\n",
       "      <td>Benign Keratosis</td>\n",
       "      <td>histo</td>\n",
       "      <td>80.0</td>\n",
       "      <td>male</td>\n",
       "      <td>scalp</td>\n",
       "    </tr>\n",
       "    <tr>\n",
       "      <th>3</th>\n",
       "      <td>HAM_0002730</td>\n",
       "      <td>ISIC_0025661</td>\n",
       "      <td>Benign Keratosis</td>\n",
       "      <td>histo</td>\n",
       "      <td>80.0</td>\n",
       "      <td>male</td>\n",
       "      <td>scalp</td>\n",
       "    </tr>\n",
       "    <tr>\n",
       "      <th>4</th>\n",
       "      <td>HAM_0001466</td>\n",
       "      <td>ISIC_0031633</td>\n",
       "      <td>Benign Keratosis</td>\n",
       "      <td>histo</td>\n",
       "      <td>75.0</td>\n",
       "      <td>male</td>\n",
       "      <td>ear</td>\n",
       "    </tr>\n",
       "  </tbody>\n",
       "</table>\n",
       "</div>"
      ],
      "text/plain": [
       "     lesion_id      image_id                dx dx_type   age   sex  \\\n",
       "0  HAM_0000118  ISIC_0027419  Benign Keratosis   histo  80.0  male   \n",
       "1  HAM_0000118  ISIC_0025030  Benign Keratosis   histo  80.0  male   \n",
       "2  HAM_0002730  ISIC_0026769  Benign Keratosis   histo  80.0  male   \n",
       "3  HAM_0002730  ISIC_0025661  Benign Keratosis   histo  80.0  male   \n",
       "4  HAM_0001466  ISIC_0031633  Benign Keratosis   histo  75.0  male   \n",
       "\n",
       "  localization  \n",
       "0        scalp  \n",
       "1        scalp  \n",
       "2        scalp  \n",
       "3        scalp  \n",
       "4          ear  "
      ]
     },
     "execution_count": 3,
     "metadata": {},
     "output_type": "execute_result"
    }
   ],
   "source": [
    "images_type = {'bkl': 'Benign Keratosis', 'nv': 'Melanocytic Nevi',\n",
    "                      'df': 'Dermatofibroma', 'mel': 'Melanoma',\n",
    "                      'vasc': 'Vascular Lesions', 'bcc': 'Basal Cell Carcinoma',\n",
    "                      'akiec': \"Bowen's disease\"}\n",
    "images_type\n",
    "df.replace(images_type.keys(), images_type.values(), inplace=True)\n",
    "df[:5]"
   ]
  },
  {
   "cell_type": "code",
   "execution_count": 4,
   "metadata": {},
   "outputs": [
    {
     "data": {
      "text/plain": [
       "array([80., 75., 60., 70., 55., 85., 65., 40., 50., 45., 35.,  0., 30.,\n",
       "       nan,  5., 25., 20., 10., 15.])"
      ]
     },
     "execution_count": 4,
     "metadata": {},
     "output_type": "execute_result"
    }
   ],
   "source": [
    "# We can observe also that the ages range, varies between 0 and 80.\n",
    "# This information will be useful in the final analysis \n",
    "# because we could tell wheter if the age is an increasing \n",
    "# factor of skin cancer or not.\n",
    "age_range = pd.unique(df['age'])\n",
    "age_range"
   ]
  },
  {
   "cell_type": "code",
   "execution_count": 5,
   "metadata": {},
   "outputs": [
    {
     "data": {
      "text/plain": [
       "array(['scalp', 'ear', 'face', 'back', 'trunk', 'chest',\n",
       "       'upper extremity', 'abdomen', 'unknown', 'lower extremity',\n",
       "       'genital', 'neck', 'hand', 'foot', 'acral'], dtype=object)"
      ]
     },
     "execution_count": 5,
     "metadata": {},
     "output_type": "execute_result"
    }
   ],
   "source": [
    "# It is also possible to locate where different tumors where found in the \n",
    "# patients\n",
    "cancers_location = pd.unique(df['localization'])\n",
    "cancers_location"
   ]
  },
  {
   "cell_type": "markdown",
   "metadata": {},
   "source": [
    "The dataset has been developed during the last 20 years and most of the images have been classified manually using a process that in medicine is called 'Histopathology' (histo) which entails to microscopically analyse a small portion of the skin tissue and then classifying it accordigly. There are also images which has been classified by the use of a tool called Cofocal Microscopy (cofocal) which allowed medicians to correctly identify where there's a disease and where it's not. Finally the data contains also a series of images that have not been classified rigorously, denoted by 'follow_up' (data that needs follow-up examination) and 'consensus' data that has been classified by the consensus of a medician. Since these last three categories do not represent a rigorous result, we decided to exclude them from the scope of the analysis."
   ]
  },
  {
   "cell_type": "code",
   "execution_count": 6,
   "metadata": {},
   "outputs": [
    {
     "name": "stdout",
     "output_type": "stream",
     "text": [
      "['histo' 'consensus' 'confocal' 'follow_up']\n",
      "['histo' 'confocal']\n"
     ]
    }
   ],
   "source": [
    "classification_type = pd.unique(df['dx_type'])\n",
    "print(classification_type)\n",
    "# Drop the rows that have the 'consensus' or 'follow_up' value\n",
    "# in the column 'dx_type'\n",
    "indexes_consensus = df[df['dx_type'] == 'consensus'].index\n",
    "indexes_follow_up = df[df['dx_type'] == 'follow_up'].index\n",
    "df = df.drop(indexes_consensus)\n",
    "df = df.drop(indexes_follow_up)\n",
    "df = df.reset_index(drop=True)\n",
    "classification_type = pd.unique(df['dx_type'])\n",
    "print(classification_type)"
   ]
  },
  {
   "cell_type": "markdown",
   "metadata": {},
   "source": [
    "After having deleted the pieces of data that are not relevant for the analysis, we now check if there are any missing values."
   ]
  },
  {
   "cell_type": "code",
   "execution_count": 7,
   "metadata": {},
   "outputs": [
    {
     "data": {
      "text/plain": [
       "lesion_id       False\n",
       "image_id        False\n",
       "dx              False\n",
       "dx_type         False\n",
       "age              True\n",
       "sex             False\n",
       "localization    False\n",
       "dtype: bool"
      ]
     },
     "execution_count": 7,
     "metadata": {},
     "output_type": "execute_result"
    }
   ],
   "source": [
    "df.isnull().any()"
   ]
  },
  {
   "cell_type": "markdown",
   "metadata": {},
   "source": [
    "From the analysis, it appears that the column of the 'age' has some missing values. To solve this problem we decided to fill those missing values with the median value."
   ]
  },
  {
   "cell_type": "code",
   "execution_count": 8,
   "metadata": {},
   "outputs": [
    {
     "data": {
      "text/plain": [
       "lesion_id       False\n",
       "image_id        False\n",
       "dx              False\n",
       "dx_type         False\n",
       "age             False\n",
       "sex             False\n",
       "localization    False\n",
       "dtype: bool"
      ]
     },
     "execution_count": 8,
     "metadata": {},
     "output_type": "execute_result"
    }
   ],
   "source": [
    "median = df['age'].median()\n",
    "df['age'] = df['age'].fillna(median)\n",
    "df.isnull().any()"
   ]
  },
  {
   "cell_type": "markdown",
   "metadata": {},
   "source": [
    "Althought the dataset contains more that 10000 images, after the preprocessing we just eliminated almost half of them because they were not classified using a scientific method. Those images that have been deleted are indeed those whose were classified as 'consensus' and 'follow_up'.\n",
    "\n",
    "After this brief pre-processing, we are left with 5409 images, each with a dimension of 450x600, and they are indeed RGB images."
   ]
  },
  {
   "cell_type": "markdown",
   "metadata": {},
   "source": [
    "Now it is useful to insert in the dataframe a column where for each image, locate the local path."
   ]
  },
  {
   "cell_type": "code",
   "execution_count": 9,
   "metadata": {},
   "outputs": [
    {
     "data": {
      "text/html": [
       "<div>\n",
       "<style scoped>\n",
       "    .dataframe tbody tr th:only-of-type {\n",
       "        vertical-align: middle;\n",
       "    }\n",
       "\n",
       "    .dataframe tbody tr th {\n",
       "        vertical-align: top;\n",
       "    }\n",
       "\n",
       "    .dataframe thead th {\n",
       "        text-align: right;\n",
       "    }\n",
       "</style>\n",
       "<table border=\"1\" class=\"dataframe\">\n",
       "  <thead>\n",
       "    <tr style=\"text-align: right;\">\n",
       "      <th></th>\n",
       "      <th>lesion_id</th>\n",
       "      <th>image_id</th>\n",
       "      <th>dx</th>\n",
       "      <th>dx_type</th>\n",
       "      <th>age</th>\n",
       "      <th>sex</th>\n",
       "      <th>localization</th>\n",
       "      <th>img_path</th>\n",
       "    </tr>\n",
       "  </thead>\n",
       "  <tbody>\n",
       "    <tr>\n",
       "      <th>0</th>\n",
       "      <td>HAM_0000118</td>\n",
       "      <td>ISIC_0027419</td>\n",
       "      <td>Benign Keratosis</td>\n",
       "      <td>histo</td>\n",
       "      <td>80.0</td>\n",
       "      <td>male</td>\n",
       "      <td>scalp</td>\n",
       "      <td>/Users/tommasocapecchi/Datasets/HAM10000/Image...</td>\n",
       "    </tr>\n",
       "    <tr>\n",
       "      <th>1</th>\n",
       "      <td>HAM_0000118</td>\n",
       "      <td>ISIC_0025030</td>\n",
       "      <td>Benign Keratosis</td>\n",
       "      <td>histo</td>\n",
       "      <td>80.0</td>\n",
       "      <td>male</td>\n",
       "      <td>scalp</td>\n",
       "      <td>/Users/tommasocapecchi/Datasets/HAM10000/Image...</td>\n",
       "    </tr>\n",
       "    <tr>\n",
       "      <th>2</th>\n",
       "      <td>HAM_0002730</td>\n",
       "      <td>ISIC_0026769</td>\n",
       "      <td>Benign Keratosis</td>\n",
       "      <td>histo</td>\n",
       "      <td>80.0</td>\n",
       "      <td>male</td>\n",
       "      <td>scalp</td>\n",
       "      <td>/Users/tommasocapecchi/Datasets/HAM10000/Image...</td>\n",
       "    </tr>\n",
       "    <tr>\n",
       "      <th>3</th>\n",
       "      <td>HAM_0002730</td>\n",
       "      <td>ISIC_0025661</td>\n",
       "      <td>Benign Keratosis</td>\n",
       "      <td>histo</td>\n",
       "      <td>80.0</td>\n",
       "      <td>male</td>\n",
       "      <td>scalp</td>\n",
       "      <td>/Users/tommasocapecchi/Datasets/HAM10000/Image...</td>\n",
       "    </tr>\n",
       "    <tr>\n",
       "      <th>4</th>\n",
       "      <td>HAM_0001466</td>\n",
       "      <td>ISIC_0031633</td>\n",
       "      <td>Benign Keratosis</td>\n",
       "      <td>histo</td>\n",
       "      <td>75.0</td>\n",
       "      <td>male</td>\n",
       "      <td>ear</td>\n",
       "      <td>/Users/tommasocapecchi/Datasets/HAM10000/Image...</td>\n",
       "    </tr>\n",
       "  </tbody>\n",
       "</table>\n",
       "</div>"
      ],
      "text/plain": [
       "     lesion_id      image_id                dx dx_type   age   sex  \\\n",
       "0  HAM_0000118  ISIC_0027419  Benign Keratosis   histo  80.0  male   \n",
       "1  HAM_0000118  ISIC_0025030  Benign Keratosis   histo  80.0  male   \n",
       "2  HAM_0002730  ISIC_0026769  Benign Keratosis   histo  80.0  male   \n",
       "3  HAM_0002730  ISIC_0025661  Benign Keratosis   histo  80.0  male   \n",
       "4  HAM_0001466  ISIC_0031633  Benign Keratosis   histo  75.0  male   \n",
       "\n",
       "  localization                                           img_path  \n",
       "0        scalp  /Users/tommasocapecchi/Datasets/HAM10000/Image...  \n",
       "1        scalp  /Users/tommasocapecchi/Datasets/HAM10000/Image...  \n",
       "2        scalp  /Users/tommasocapecchi/Datasets/HAM10000/Image...  \n",
       "3        scalp  /Users/tommasocapecchi/Datasets/HAM10000/Image...  \n",
       "4          ear  /Users/tommasocapecchi/Datasets/HAM10000/Image...  "
      ]
     },
     "execution_count": 9,
     "metadata": {},
     "output_type": "execute_result"
    }
   ],
   "source": [
    "# Now it is useful to insert in the dataframe a column\n",
    "# where for each image, locate the local path.\n",
    "images_dir_path = '/Users/tommasocapecchi/Datasets/HAM10000/Images'\n",
    "dataset = []\n",
    "df\n",
    "\n",
    "for image_name in df['image_id']:\n",
    "    image_path = os.path.join(images_dir_path, image_name +'.jpg')\n",
    "    df['img_path'] = image_path\n",
    "df[:5]"
   ]
  },
  {
   "cell_type": "markdown",
   "metadata": {},
   "source": [
    "In order to build a system capable to be trained and to give us results, it is crucial to encode the different types of skin cancer into  labels, to classify them. This is achieved using sklearn by the following code."
   ]
  },
  {
   "cell_type": "code",
   "execution_count": 10,
   "metadata": {},
   "outputs": [
    {
     "data": {
      "text/html": [
       "<div>\n",
       "<style scoped>\n",
       "    .dataframe tbody tr th:only-of-type {\n",
       "        vertical-align: middle;\n",
       "    }\n",
       "\n",
       "    .dataframe tbody tr th {\n",
       "        vertical-align: top;\n",
       "    }\n",
       "\n",
       "    .dataframe thead th {\n",
       "        text-align: right;\n",
       "    }\n",
       "</style>\n",
       "<table border=\"1\" class=\"dataframe\">\n",
       "  <thead>\n",
       "    <tr style=\"text-align: right;\">\n",
       "      <th></th>\n",
       "      <th>lesion_id</th>\n",
       "      <th>image_id</th>\n",
       "      <th>dx</th>\n",
       "      <th>dx_type</th>\n",
       "      <th>age</th>\n",
       "      <th>sex</th>\n",
       "      <th>localization</th>\n",
       "      <th>img_path</th>\n",
       "      <th>target</th>\n",
       "    </tr>\n",
       "  </thead>\n",
       "  <tbody>\n",
       "    <tr>\n",
       "      <th>0</th>\n",
       "      <td>HAM_0000118</td>\n",
       "      <td>ISIC_0027419</td>\n",
       "      <td>Benign Keratosis</td>\n",
       "      <td>histo</td>\n",
       "      <td>80.0</td>\n",
       "      <td>male</td>\n",
       "      <td>scalp</td>\n",
       "      <td>/Users/tommasocapecchi/Datasets/HAM10000/Image...</td>\n",
       "      <td>1</td>\n",
       "    </tr>\n",
       "    <tr>\n",
       "      <th>1</th>\n",
       "      <td>HAM_0000118</td>\n",
       "      <td>ISIC_0025030</td>\n",
       "      <td>Benign Keratosis</td>\n",
       "      <td>histo</td>\n",
       "      <td>80.0</td>\n",
       "      <td>male</td>\n",
       "      <td>scalp</td>\n",
       "      <td>/Users/tommasocapecchi/Datasets/HAM10000/Image...</td>\n",
       "      <td>1</td>\n",
       "    </tr>\n",
       "    <tr>\n",
       "      <th>2</th>\n",
       "      <td>HAM_0002730</td>\n",
       "      <td>ISIC_0026769</td>\n",
       "      <td>Benign Keratosis</td>\n",
       "      <td>histo</td>\n",
       "      <td>80.0</td>\n",
       "      <td>male</td>\n",
       "      <td>scalp</td>\n",
       "      <td>/Users/tommasocapecchi/Datasets/HAM10000/Image...</td>\n",
       "      <td>1</td>\n",
       "    </tr>\n",
       "    <tr>\n",
       "      <th>3</th>\n",
       "      <td>HAM_0002730</td>\n",
       "      <td>ISIC_0025661</td>\n",
       "      <td>Benign Keratosis</td>\n",
       "      <td>histo</td>\n",
       "      <td>80.0</td>\n",
       "      <td>male</td>\n",
       "      <td>scalp</td>\n",
       "      <td>/Users/tommasocapecchi/Datasets/HAM10000/Image...</td>\n",
       "      <td>1</td>\n",
       "    </tr>\n",
       "    <tr>\n",
       "      <th>4</th>\n",
       "      <td>HAM_0001466</td>\n",
       "      <td>ISIC_0031633</td>\n",
       "      <td>Benign Keratosis</td>\n",
       "      <td>histo</td>\n",
       "      <td>75.0</td>\n",
       "      <td>male</td>\n",
       "      <td>ear</td>\n",
       "      <td>/Users/tommasocapecchi/Datasets/HAM10000/Image...</td>\n",
       "      <td>1</td>\n",
       "    </tr>\n",
       "    <tr>\n",
       "      <th>5</th>\n",
       "      <td>HAM_0001466</td>\n",
       "      <td>ISIC_0027850</td>\n",
       "      <td>Benign Keratosis</td>\n",
       "      <td>histo</td>\n",
       "      <td>75.0</td>\n",
       "      <td>male</td>\n",
       "      <td>ear</td>\n",
       "      <td>/Users/tommasocapecchi/Datasets/HAM10000/Image...</td>\n",
       "      <td>1</td>\n",
       "    </tr>\n",
       "    <tr>\n",
       "      <th>6</th>\n",
       "      <td>HAM_0002761</td>\n",
       "      <td>ISIC_0029176</td>\n",
       "      <td>Benign Keratosis</td>\n",
       "      <td>histo</td>\n",
       "      <td>60.0</td>\n",
       "      <td>male</td>\n",
       "      <td>face</td>\n",
       "      <td>/Users/tommasocapecchi/Datasets/HAM10000/Image...</td>\n",
       "      <td>1</td>\n",
       "    </tr>\n",
       "    <tr>\n",
       "      <th>7</th>\n",
       "      <td>HAM_0002761</td>\n",
       "      <td>ISIC_0029068</td>\n",
       "      <td>Benign Keratosis</td>\n",
       "      <td>histo</td>\n",
       "      <td>60.0</td>\n",
       "      <td>male</td>\n",
       "      <td>face</td>\n",
       "      <td>/Users/tommasocapecchi/Datasets/HAM10000/Image...</td>\n",
       "      <td>1</td>\n",
       "    </tr>\n",
       "    <tr>\n",
       "      <th>8</th>\n",
       "      <td>HAM_0005132</td>\n",
       "      <td>ISIC_0025837</td>\n",
       "      <td>Benign Keratosis</td>\n",
       "      <td>histo</td>\n",
       "      <td>70.0</td>\n",
       "      <td>female</td>\n",
       "      <td>back</td>\n",
       "      <td>/Users/tommasocapecchi/Datasets/HAM10000/Image...</td>\n",
       "      <td>1</td>\n",
       "    </tr>\n",
       "    <tr>\n",
       "      <th>9</th>\n",
       "      <td>HAM_0005132</td>\n",
       "      <td>ISIC_0025209</td>\n",
       "      <td>Benign Keratosis</td>\n",
       "      <td>histo</td>\n",
       "      <td>70.0</td>\n",
       "      <td>female</td>\n",
       "      <td>back</td>\n",
       "      <td>/Users/tommasocapecchi/Datasets/HAM10000/Image...</td>\n",
       "      <td>1</td>\n",
       "    </tr>\n",
       "  </tbody>\n",
       "</table>\n",
       "</div>"
      ],
      "text/plain": [
       "     lesion_id      image_id                dx dx_type   age     sex  \\\n",
       "0  HAM_0000118  ISIC_0027419  Benign Keratosis   histo  80.0    male   \n",
       "1  HAM_0000118  ISIC_0025030  Benign Keratosis   histo  80.0    male   \n",
       "2  HAM_0002730  ISIC_0026769  Benign Keratosis   histo  80.0    male   \n",
       "3  HAM_0002730  ISIC_0025661  Benign Keratosis   histo  80.0    male   \n",
       "4  HAM_0001466  ISIC_0031633  Benign Keratosis   histo  75.0    male   \n",
       "5  HAM_0001466  ISIC_0027850  Benign Keratosis   histo  75.0    male   \n",
       "6  HAM_0002761  ISIC_0029176  Benign Keratosis   histo  60.0    male   \n",
       "7  HAM_0002761  ISIC_0029068  Benign Keratosis   histo  60.0    male   \n",
       "8  HAM_0005132  ISIC_0025837  Benign Keratosis   histo  70.0  female   \n",
       "9  HAM_0005132  ISIC_0025209  Benign Keratosis   histo  70.0  female   \n",
       "\n",
       "  localization                                           img_path  target  \n",
       "0        scalp  /Users/tommasocapecchi/Datasets/HAM10000/Image...       1  \n",
       "1        scalp  /Users/tommasocapecchi/Datasets/HAM10000/Image...       1  \n",
       "2        scalp  /Users/tommasocapecchi/Datasets/HAM10000/Image...       1  \n",
       "3        scalp  /Users/tommasocapecchi/Datasets/HAM10000/Image...       1  \n",
       "4          ear  /Users/tommasocapecchi/Datasets/HAM10000/Image...       1  \n",
       "5          ear  /Users/tommasocapecchi/Datasets/HAM10000/Image...       1  \n",
       "6         face  /Users/tommasocapecchi/Datasets/HAM10000/Image...       1  \n",
       "7         face  /Users/tommasocapecchi/Datasets/HAM10000/Image...       1  \n",
       "8         back  /Users/tommasocapecchi/Datasets/HAM10000/Image...       1  \n",
       "9         back  /Users/tommasocapecchi/Datasets/HAM10000/Image...       1  "
      ]
     },
     "execution_count": 10,
     "metadata": {},
     "output_type": "execute_result"
    }
   ],
   "source": [
    "encoder = preprocessing.LabelEncoder()\n",
    "labels = encoder.fit_transform(df['dx'])\n",
    "df['target'] = labels\n",
    "df[:10]"
   ]
  },
  {
   "cell_type": "markdown",
   "metadata": {},
   "source": [
    "Now we would like to count the numbers of skin cancers according to each category to see if the dataset is well balanced or not."
   ]
  },
  {
   "cell_type": "markdown",
   "metadata": {},
   "source": [
    "Now we are going to load the images and adapt them to the best of our possibilities with respect to the size. The images in the dataset comes with two directories, part-1 and part-2. We are going to retrieve those images in two different variables and then unify in one big piece of data."
   ]
  },
  {
   "cell_type": "code",
   "execution_count": 11,
   "metadata": {},
   "outputs": [
    {
     "data": {
      "text/plain": [
       "4    2498\n",
       "5    1113\n",
       "1     835\n",
       "0     514\n",
       "2     327\n",
       "6      67\n",
       "3      55\n",
       "Name: target, dtype: int64"
      ]
     },
     "execution_count": 11,
     "metadata": {},
     "output_type": "execute_result"
    }
   ],
   "source": [
    "instances_cancer = df['target'].value_counts()\n",
    "instances_cancer"
   ]
  },
  {
   "cell_type": "markdown",
   "metadata": {},
   "source": [
    "From the results it appears that the dataset is highly imbalanced, thus we might consider some technique of expansion for those categories that suffer of a lack of instances with respect to those that have a high number instead."
   ]
  },
  {
   "cell_type": "code",
   "execution_count": 12,
   "metadata": {},
   "outputs": [
    {
     "data": {
      "image/png": "[encoded data removed]",
      "text/plain": [
       "<Figure size 720x576 with 1 Axes>"
      ]
     },
     "metadata": {
      "needs_background": "light"
     },
     "output_type": "display_data"
    }
   ],
   "source": [
    "instances_cancer.plot(kind='bar', figsize=(10,8))\n",
    "plt.grid(which='major', linestyle='-', linewidth='0.5', color='green')\n",
    "plt.grid(which='minor', linestyle=':', linewidth='0.5', color='black')\n",
    "plt.show()"
   ]
  },
  {
   "cell_type": "code",
   "execution_count": null,
   "metadata": {},
   "outputs": [],
   "source": []
  }
 ],
 "metadata": {
  "kernelspec": {
   "display_name": "Python 3",
   "language": "python",
   "name": "python3"
  },
  "language_info": {
   "codemirror_mode": {
    "name": "ipython",
    "version": 3
   },
   "file_extension": ".py",
   "mimetype": "text/x-python",
   "name": "python",
   "nbconvert_exporter": "python",
   "pygments_lexer": "ipython3",
   "version": "3.8.3"
  }
 },
 "nbformat": 4,
 "nbformat_minor": 4
}
